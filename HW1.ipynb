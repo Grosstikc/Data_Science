{
 "cells": [
  {
   "cell_type": "code",
   "execution_count": null,
   "metadata": {},
   "outputs": [],
   "source": [
    "#1"
   ]
  },
  {
   "cell_type": "code",
   "execution_count": 1,
   "metadata": {},
   "outputs": [
    {
     "name": "stdout",
     "output_type": "stream",
     "text": [
      "[ 1  2  3  4  5  6  7  8  9 10]\n"
     ]
    }
   ],
   "source": [
    "import numpy as np\n",
    "\n",
    "# Одновимірний масив\n",
    "natural_numbers = np.arange(1, 11)\n",
    "\n",
    "# Виводимо значення\n",
    "print(natural_numbers)"
   ]
  },
  {
   "cell_type": "markdown",
   "metadata": {},
   "source": [
    "#2"
   ]
  },
  {
   "cell_type": "code",
   "execution_count": 2,
   "metadata": {},
   "outputs": [
    {
     "data": {
      "text/plain": [
       "array([[0., 0., 0.],\n",
       "       [0., 0., 0.],\n",
       "       [0., 0., 0.]])"
      ]
     },
     "execution_count": 2,
     "metadata": {},
     "output_type": "execute_result"
    }
   ],
   "source": [
    "# створюємо двовимірний масив розміром 3х3, заповнений нулями\n",
    "matrix_3x3 = np.zeros((3, 3))\n",
    "matrix_3x3"
   ]
  },
  {
   "cell_type": "markdown",
   "metadata": {},
   "source": [
    "#3"
   ]
  },
  {
   "cell_type": "code",
   "execution_count": 3,
   "metadata": {},
   "outputs": [
    {
     "name": "stdout",
     "output_type": "stream",
     "text": [
      "[[9 5 1 1 3]\n",
      " [5 6 6 4 6]\n",
      " [4 1 1 7 5]\n",
      " [5 1 3 3 7]\n",
      " [6 8 8 1 3]]\n"
     ]
    }
   ],
   "source": [
    "# Створюємо масив розміром 5х5, заповнений випадковими цілими числами в діапазоні від 1 до 10\n",
    "random_matrix_5x5 = np.random.randint(1, 11, size=(5, 5))\n",
    "\n",
    "# Виводимо значення\n",
    "print(random_matrix_5x5)"
   ]
  },
  {
   "cell_type": "markdown",
   "metadata": {},
   "source": [
    "#4"
   ]
  },
  {
   "cell_type": "code",
   "execution_count": 4,
   "metadata": {},
   "outputs": [
    {
     "name": "stdout",
     "output_type": "stream",
     "text": [
      "[[0.45462626 0.77524332 0.99829786 0.07504627]\n",
      " [0.33741294 0.91964961 0.99282907 0.49526543]\n",
      " [0.58012054 0.72917054 0.2267668  0.42091203]\n",
      " [0.96361565 0.84010343 0.63361927 0.54755878]]\n"
     ]
    }
   ],
   "source": [
    "# Створюємо масив розміром 4x4, заповнений випадковими дійсними числами в діапазоні від 0 до 1\n",
    "random_matrix_4x4 = np.random.rand(4, 4)\n",
    "\n",
    "# Виводимо значення\n",
    "print(random_matrix_4x4)"
   ]
  },
  {
   "cell_type": "markdown",
   "metadata": {},
   "source": [
    "#5"
   ]
  },
  {
   "cell_type": "code",
   "execution_count": 5,
   "metadata": {},
   "outputs": [
    {
     "data": {
      "text/plain": [
       "(array([ 5,  3, 10,  5,  5]),\n",
       " array([8, 3, 6, 6, 2]),\n",
       " array([13,  6, 16, 11,  7]),\n",
       " array([-3,  0,  4, -1,  3]),\n",
       " array([40,  9, 60, 30, 10]))"
      ]
     },
     "execution_count": 5,
     "metadata": {},
     "output_type": "execute_result"
    }
   ],
   "source": [
    "# Створюємо два одновимірних масиви розміром 5, заповнені випадковими цілими числами в діапазоні від 1 до 10\n",
    "array1 = np.random.randint(1, 11, size=5)\n",
    "array2 = np.random.randint(1, 11, size=5)\n",
    "\n",
    "# Виконуємо поелементні операції додавання, віднімання та множення\n",
    "additional_result = array1 + array2\n",
    "subtraction_result = array1 - array2\n",
    "multiplication_result = array1 * array2\n",
    "\n",
    "# Виводимо значення\n",
    "array1, array2, additional_result, subtraction_result, multiplication_result"
   ]
  },
  {
   "cell_type": "markdown",
   "metadata": {},
   "source": [
    "#6"
   ]
  },
  {
   "cell_type": "code",
   "execution_count": 6,
   "metadata": {},
   "outputs": [
    {
     "data": {
      "text/plain": [
       "(array([2, 3, 9, 9, 6, 2, 1]), array([ 2,  8,  1,  2,  4,  3, 10]), 95)"
      ]
     },
     "execution_count": 6,
     "metadata": {},
     "output_type": "execute_result"
    }
   ],
   "source": [
    "# Створюємо два вектори розміром 7, заповнені випадковими числами\n",
    "vector1 = np.random.randint(1, 11, size=7)\n",
    "vector2 = np.random.randint(1, 11, size=7)\n",
    "\n",
    "# Обчислюємо їх скалярний добуток\n",
    "dot_product = np.dot(vector1, vector2)\n",
    "\n",
    "vector1, vector2, dot_product\n"
   ]
  },
  {
   "cell_type": "markdown",
   "metadata": {},
   "source": [
    "#7"
   ]
  },
  {
   "cell_type": "code",
   "execution_count": 9,
   "metadata": {},
   "outputs": [
    {
     "name": "stdout",
     "output_type": "stream",
     "text": [
      "Matrix 2x2:\n",
      "[[3 9]\n",
      " [1 8]]\n",
      "\n",
      "Matrix 2x3:\n",
      "[[ 2  1  5]\n",
      " [10  8  1]]\n",
      "\n",
      "Resulting Matrix after Multiplication:\n",
      "[[96 75 24]\n",
      " [82 65 13]]\n"
     ]
    }
   ],
   "source": [
    "# Створюємо дві матриці розміром 2x2 та 2x3, заповнені випадковими цілими числами в діапазоні від 1 до 10\n",
    "matrix_2x2 = np.random.randint(1, 11, size=(2, 2))\n",
    "matrix_2x3 = np.random.randint(1, 11, size=(2, 3))\n",
    "\n",
    "# Обчислюємо множення матриць\n",
    "result_matrix = np.dot(matrix_2x2, matrix_2x3)\n",
    "\n",
    "# Виводимо результат\n",
    "print(\"Matrix 2x2:\")\n",
    "print(matrix_2x2)\n",
    "print(\"\\nMatrix 2x3:\")\n",
    "print(matrix_2x3)\n",
    "print(\"\\nResulting Matrix after Multiplication:\")\n",
    "print(result_matrix)"
   ]
  },
  {
   "cell_type": "markdown",
   "metadata": {},
   "source": [
    "#8"
   ]
  },
  {
   "cell_type": "code",
   "execution_count": 10,
   "metadata": {},
   "outputs": [
    {
     "data": {
      "text/plain": [
       "(array([[ 5,  4,  6],\n",
       "        [ 1,  9, 10],\n",
       "        [ 2,  8, 10]]),\n",
       " array([[ 0.33333333,  0.26666667, -0.46666667],\n",
       "        [ 0.33333333,  1.26666667, -1.46666667],\n",
       "        [-0.33333333, -1.06666667,  1.36666667]]))"
      ]
     },
     "execution_count": 10,
     "metadata": {},
     "output_type": "execute_result"
    }
   ],
   "source": [
    "# Створюємо матрицю розміром 3x3, заповнену випадковими цілими числами в діапазоні від 1 до 10\n",
    "matrix_3x3 = np.random.randint(1, 11, size=(3, 3))\n",
    "\n",
    "# Знаходимо обернену матрицю\n",
    "inverse_matrix = np.linalg.inv(matrix_3x3)\n",
    "\n",
    "matrix_3x3, inverse_matrix"
   ]
  },
  {
   "cell_type": "markdown",
   "metadata": {},
   "source": [
    "#9"
   ]
  },
  {
   "cell_type": "code",
   "execution_count": 12,
   "metadata": {},
   "outputs": [
    {
     "name": "stdout",
     "output_type": "stream",
     "text": [
      "Original Matrix:\n",
      "[[0.06386781 0.17919073 0.86127561 0.73831313]\n",
      " [0.53389481 0.40204621 0.89500103 0.84597801]\n",
      " [0.23147165 0.92092797 0.21757927 0.41514284]\n",
      " [0.50814076 0.57522737 0.36625574 0.66539272]]\n",
      "\n",
      "Transposed Matrix:\n",
      "[[0.06386781 0.53389481 0.23147165 0.50814076]\n",
      " [0.17919073 0.40204621 0.92092797 0.57522737]\n",
      " [0.86127561 0.89500103 0.21757927 0.36625574]\n",
      " [0.73831313 0.84597801 0.41514284 0.66539272]]\n"
     ]
    }
   ],
   "source": [
    "# Створюємо матрицю розміром 4x4, заповнену випадковими дійсними числами в діапазоні від 0 до 1\n",
    "matrix_4x4 = np.random.rand(4, 4)\n",
    "\n",
    "# Транспортуємо матрицю\n",
    "transposed_matrix = matrix_4x4.T\n",
    "\n",
    "# Виводимо результат\n",
    "print(\"Original Matrix:\")\n",
    "print(matrix_4x4)\n",
    "print(\"\\nTransposed Matrix:\")\n",
    "print(transposed_matrix)"
   ]
  },
  {
   "cell_type": "markdown",
   "metadata": {},
   "source": [
    "#10"
   ]
  },
  {
   "cell_type": "code",
   "execution_count": 6,
   "metadata": {},
   "outputs": [
    {
     "data": {
      "text/plain": [
       "(array([[ 1, 10,  4,  2],\n",
       "        [ 4,  2,  6,  9],\n",
       "        [ 8,  8,  2,  2]]),\n",
       " array([7, 2, 1, 2]),\n",
       " array([35, 56, 78]))"
      ]
     },
     "execution_count": 6,
     "metadata": {},
     "output_type": "execute_result"
    }
   ],
   "source": [
    "import numpy as np\n",
    "\n",
    "# Створюємо матрицю розміром 3x4, заповнену випадковими цілими числами в діапазоні від 1 до 10\n",
    "matrix_3x4 = np.random.randint(1, 11, size=(3, 4))\n",
    "\n",
    "# Створюємо вектор розміром 4, заповнений випадковими цілими числами в діапазоні від 1 до 10\n",
    "vector_4 = np.random.randint(1, 11, size=4)\n",
    "\n",
    "# Обчислюємо результат множення матриці та вектора\n",
    "result = np.dot(matrix_3x4, vector_4)\n",
    "\n",
    "matrix_3x4, vector_4, result\n"
   ]
  },
  {
   "cell_type": "markdown",
   "metadata": {},
   "source": [
    "#11"
   ]
  },
  {
   "cell_type": "code",
   "execution_count": 10,
   "metadata": {},
   "outputs": [
    {
     "name": "stdout",
     "output_type": "stream",
     "text": [
      "Matrix 2x3:\n",
      "[[0.18726008 0.72194713 0.15259393]\n",
      " [0.88168729 0.3606117  0.02801565]]\n",
      "\n",
      "Vector 3:\n",
      "[0.85065175 0.23692191 0.33057072]\n",
      "\n",
      "Result of multication:\n",
      "[0.3807813  0.84470681]\n"
     ]
    }
   ],
   "source": [
    "# Створюємо матрицю розміром 2x3, заповнену випадковими дійсними числами в діапазоні від 0 до 1\n",
    "matrix_2x3 = np.random.rand(2, 3)\n",
    "\n",
    "# Створюємо вектор розміром 3, заповнений випадковими дійсними числами в діапазоні від 0 до 1\n",
    "vector_3 = np.random.rand(3)\n",
    "\n",
    "# Обчислюємо результат множення матриці та вектора\n",
    "result = np.dot(matrix_2x3, vector_3)\n",
    "\n",
    "# Виводимо результати\n",
    "print(\"Matrix 2x3:\")\n",
    "print(matrix_2x3)\n",
    "print(\"\\nVector 3:\")\n",
    "print(vector_3)\n",
    "print(\"\\nResult of multication:\")\n",
    "print(result)"
   ]
  },
  {
   "cell_type": "markdown",
   "metadata": {},
   "source": [
    "#12"
   ]
  },
  {
   "cell_type": "code",
   "execution_count": 13,
   "metadata": {},
   "outputs": [
    {
     "name": "stdout",
     "output_type": "stream",
     "text": [
      "Matrix 1:\n",
      "[[8 9]\n",
      " [6 9]]\n",
      "\n",
      "Matrix 2:\n",
      "[[7 3]\n",
      " [9 1]]\n",
      "\n",
      "Element-wise Multiplication:\n",
      "[[56 27]\n",
      " [54  9]]\n"
     ]
    }
   ],
   "source": [
    "# Створюємо дві матриці розміром 2x2, заповнені випадковими цілими числами в діапазоні від 1 до 10\n",
    "matrix1 = np.random.randint(1, 11, size=(2, 2))\n",
    "matrix2 = np.random.randint(1, 11, size=(2, 2))\n",
    "\n",
    "# Обчислюємо поелементне множення матриць\n",
    "elementtwise_multiplication = matrix1 * matrix2\n",
    "\n",
    "# Виводимо результати\n",
    "\n",
    "print(\"Matrix 1:\")\n",
    "print(matrix1)\n",
    "print(\"\\nMatrix 2:\")\n",
    "print(matrix2)\n",
    "print(\"\\nElement-wise Multiplication:\")\n",
    "print(elementtwise_multiplication)"
   ]
  },
  {
   "cell_type": "markdown",
   "metadata": {},
   "source": [
    "#13"
   ]
  },
  {
   "cell_type": "code",
   "execution_count": 14,
   "metadata": {},
   "outputs": [
    {
     "name": "stdout",
     "output_type": "stream",
     "text": [
      "Matrix 1:\n",
      "[[ 6  1]\n",
      " [10  7]]\n",
      "\n",
      "Matrix 2:\n",
      "[[ 3  4]\n",
      " [ 9 10]]\n",
      "\n",
      "Product Matrix:\n",
      "[[ 27  34]\n",
      " [ 93 110]]\n"
     ]
    }
   ],
   "source": [
    "# Створюємо дві матриці розміром 2x2, заповнені випадковими цілими числами в діапазоні від 1 до 10\n",
    "matrix1 = np.random.randint(1, 11, size=(2, 2))\n",
    "matrix2 = np.random.randint(1, 11, size=(2, 2))\n",
    "\n",
    "# Знаходимо добуток матриць\n",
    "product_matrix = np.dot(matrix1, matrix2)\n",
    "\n",
    "# Виводимо результати\n",
    "print(\"Matrix 1:\")\n",
    "print(matrix1)\n",
    "print(\"\\nMatrix 2:\")\n",
    "print(matrix2)\n",
    "print(\"\\nProduct Matrix:\")\n",
    "print(product_matrix)"
   ]
  },
  {
   "cell_type": "markdown",
   "metadata": {},
   "source": [
    "#14"
   ]
  },
  {
   "cell_type": "code",
   "execution_count": 15,
   "metadata": {},
   "outputs": [
    {
     "data": {
      "text/plain": [
       "(array([[78, 30, 17, 48, 48],\n",
       "        [75, 72, 39,  5, 39],\n",
       "        [28, 99, 72, 68, 64],\n",
       "        [87, 27,  7, 28, 74],\n",
       "        [51, 81, 17,  6, 50]]),\n",
       " 1210)"
      ]
     },
     "execution_count": 15,
     "metadata": {},
     "output_type": "execute_result"
    }
   ],
   "source": [
    "# Створюємо матрицю розміром 5x5, заповнену випадковими цілими числами в діапазоні від 1 до 100\n",
    "matrix_5x5 = np.random.randint(1, 101, size=(5, 5))\n",
    "\n",
    "# Знаходимо суму елементів матриці\n",
    "sum_of_elements = np.sum(matrix_5x5)\n",
    "\n",
    "# Виводимо результати\n",
    "matrix_5x5, sum_of_elements\n"
   ]
  },
  {
   "cell_type": "markdown",
   "metadata": {},
   "source": [
    "#15"
   ]
  },
  {
   "cell_type": "code",
   "execution_count": 16,
   "metadata": {},
   "outputs": [
    {
     "name": "stdout",
     "output_type": "stream",
     "text": [
      "Matrix 1:\n",
      "[[ 4 10  4  3]\n",
      " [ 1  6  8  9]\n",
      " [ 9  2  4 10]\n",
      " [ 7 10  1  6]]\n",
      "\n",
      "Matrix 2:\n",
      "[[4 7 5 1]\n",
      " [3 5 3 4]\n",
      " [8 6 8 5]\n",
      " [7 7 1 4]]\n",
      "\n",
      "Difference Matrix:\n",
      "[[ 0  3 -1  2]\n",
      " [-2  1  5  5]\n",
      " [ 1 -4 -4  5]\n",
      " [ 0  3  0  2]]\n"
     ]
    }
   ],
   "source": [
    "# Створюємо дві матриці розміром 4x4, заповнені випадковими цілими числами в діапазоні від 1 до 10\n",
    "matrix1 = np.random.randint(1, 11, size=(4, 4))\n",
    "matrix2 = np.random.randint(1, 11, size=(4, 4))\n",
    "\n",
    "# Обчислюємо різницю матриць\n",
    "difference_matrix = matrix1 - matrix2\n",
    "\n",
    "# Виводимо результати\n",
    "print(\"Matrix 1:\")\n",
    "print(matrix1)\n",
    "print(\"\\nMatrix 2:\")\n",
    "print(matrix2)\n",
    "print(\"\\nDifference Matrix:\")\n",
    "print(difference_matrix)"
   ]
  },
  {
   "cell_type": "markdown",
   "metadata": {},
   "source": [
    "#16"
   ]
  },
  {
   "cell_type": "code",
   "execution_count": 19,
   "metadata": {},
   "outputs": [
    {
     "name": "stdout",
     "output_type": "stream",
     "text": [
      "Матриця:\n",
      "[[0.8636276  0.47527869 0.58159633]\n",
      " [0.70812776 0.20633804 0.57875608]\n",
      " [0.54020224 0.5945574  0.49364383]]\n",
      "\n",
      "Вектор-стовпчик із сумами рядків матриці:\n",
      "[[1.92050262]\n",
      " [1.49322189]\n",
      " [1.62840347]]\n"
     ]
    }
   ],
   "source": [
    "import numpy as np\n",
    "\n",
    "# Створюємо матрицю розміром 3x3 з випадковими дійсними числами в діапазоні [0, 1]\n",
    "matrix = np.random.rand(3, 3)\n",
    "\n",
    "# Виводимо створену матрицю\n",
    "print(\"Матриця:\")\n",
    "print(matrix)\n",
    "\n",
    "# Знаходимо вектор-стовпчик, що містить суму елементів кожного рядка матриці\n",
    "sum_vector = np.sum(matrix, axis=1, keepdims=True)\n",
    "\n",
    "# Виводимо знайдений вектор-стовпчик\n",
    "print(\"\\nВектор-стовпчик із сумами рядків матриці:\")\n",
    "print(sum_vector)"
   ]
  },
  {
   "cell_type": "markdown",
   "metadata": {},
   "source": [
    "#17"
   ]
  },
  {
   "cell_type": "code",
   "execution_count": 20,
   "metadata": {},
   "outputs": [
    {
     "name": "stdout",
     "output_type": "stream",
     "text": [
      "Матриця:\n",
      "[[2 4 8 7]\n",
      " [4 7 1 1]\n",
      " [8 4 3 7]]\n",
      "\n",
      "Матриця з квадратами чисел:\n",
      "[[ 4 16 64 49]\n",
      " [16 49  1  1]\n",
      " [64 16  9 49]]\n"
     ]
    }
   ],
   "source": [
    "import numpy as np\n",
    "\n",
    "# Створюємо матрицю розміром 3x4 з довільними цілими числами\n",
    "matrix = np.random.randint(1, 10, size=(3, 4)) # Генеруємо цілі числа в діапазоні від 1 до 10\n",
    "\n",
    "# Виводимо початкову матрицю\n",
    "print(\"Матриця:\")\n",
    "print(matrix)\n",
    "\n",
    "# Створюємо нову матрицю, що містить квадрати чисел поелементно\n",
    "squared_matrix = np.square(matrix)\n",
    "\n",
    "# Виводимо матрицю з квадратами чисел\n",
    "print(\"\\nМатриця з квадратами чисел:\")\n",
    "print(squared_matrix)"
   ]
  },
  {
   "cell_type": "markdown",
   "metadata": {},
   "source": [
    "#18"
   ]
  },
  {
   "cell_type": "code",
   "execution_count": 21,
   "metadata": {},
   "outputs": [
    {
     "name": "stdout",
     "output_type": "stream",
     "text": [
      "Випадковий вектор:\n",
      "[16 14 15 37]\n",
      "\n",
      "Вектор з квадратними коренями:\n",
      "[4.         3.74165739 3.87298335 6.08276253]\n"
     ]
    }
   ],
   "source": [
    "# Створюємо вектор розміром 4 з випадковими цілими числами в діапазоні від 1 до 50\n",
    "random_vector = np.random.randint(1, 51, size=4)\n",
    "print(\"Випадковий вектор:\")\n",
    "print(random_vector)\n",
    "\n",
    "# Обчислюємо квадратні корені кожного елемента вектора\n",
    "sqrt_vector = np.sqrt(random_vector)\n",
    "print(\"\\nВектор з квадратними коренями:\")\n",
    "print(sqrt_vector)"
   ]
  }
 ],
 "metadata": {
  "kernelspec": {
   "display_name": "data_science",
   "language": "python",
   "name": "python3"
  },
  "language_info": {
   "codemirror_mode": {
    "name": "ipython",
    "version": 3
   },
   "file_extension": ".py",
   "mimetype": "text/x-python",
   "name": "python",
   "nbconvert_exporter": "python",
   "pygments_lexer": "ipython3",
   "version": "3.10.11"
  }
 },
 "nbformat": 4,
 "nbformat_minor": 2
}
